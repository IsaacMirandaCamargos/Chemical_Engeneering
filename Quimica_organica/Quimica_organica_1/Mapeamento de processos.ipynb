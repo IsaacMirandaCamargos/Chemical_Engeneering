{
 "cells": [
  {
   "cell_type": "markdown",
   "id": "263ade80-3304-4d10-ae26-3879603f706c",
   "metadata": {},
   "source": [
    "<h1 align=\"center\"> Mapeamento de processos"
   ]
  },
  {
   "cell_type": "markdown",
   "id": "041c108f-81aa-4777-b67e-e8d68988b6e1",
   "metadata": {},
   "source": [
    "<h1> # Para que serve:"
   ]
  },
  {
   "cell_type": "markdown",
   "id": "50a97a42-acf4-488d-862a-ee25804b89cd",
   "metadata": {},
   "source": [
    "- Conhecer o processo\n",
    "- Mudar o processo\n",
    "- Resolver problemas e dificuldades\n",
    "- Identificar pontos de atrito entre atividades ou áreas"
   ]
  },
  {
   "cell_type": "markdown",
   "id": "959be536-f892-45f5-a1a7-7fff38c34183",
   "metadata": {},
   "source": [
    "<h1> # Como fazer:"
   ]
  },
  {
   "cell_type": "markdown",
   "id": "c85fa658-0601-42d2-933f-755e61daea6d",
   "metadata": {},
   "source": [
    "- 1°: Escrever a primeira e ultima etapa do processo.\n",
    "- 2°: Detalhar as outras etapas.\n",
    "- 3°: Detalhar os envolvidos na realização do processo.\n",
    "- 4°: Quem é o responsavel pelo processo no caso de algum problema.\n",
    "- 5°: Pontuar erros ou dificuldades nas etapas do processo.\n",
    "- 6°: Descrever erros ou dificuldades das etapas do processo."
   ]
  },
  {
   "cell_type": "markdown",
   "id": "13448fd2-1a88-4c78-8354-1911b8710db1",
   "metadata": {},
   "source": []
  },
  {
   "cell_type": "markdown",
   "id": "5e554587-289d-459c-b0f6-03fcf0b97131",
   "metadata": {},
   "source": []
  },
  {
   "cell_type": "markdown",
   "id": "8dabb650-5295-464a-8526-06f9c3f75a95",
   "metadata": {},
   "source": []
  },
  {
   "cell_type": "markdown",
   "id": "d31e3581-2727-4289-b182-7f724f94b352",
   "metadata": {},
   "source": []
  },
  {
   "cell_type": "markdown",
   "id": "44b89970-f17c-4293-8162-2f06fe8d729c",
   "metadata": {},
   "source": []
  },
  {
   "cell_type": "markdown",
   "id": "7d65190d-ee3d-4f9d-943a-782ae1d50624",
   "metadata": {},
   "source": []
  },
  {
   "cell_type": "markdown",
   "id": "3b0eb3ac-1c6c-4cf7-a7c6-52796f783fd9",
   "metadata": {},
   "source": []
  },
  {
   "cell_type": "markdown",
   "id": "4702f1fc-0f94-4394-8b6f-457e86ee4443",
   "metadata": {},
   "source": []
  },
  {
   "cell_type": "markdown",
   "id": "38f75417-4366-416a-b8de-4a7175c1cc17",
   "metadata": {},
   "source": []
  }
 ],
 "metadata": {
  "kernelspec": {
   "display_name": "Python 3 (ipykernel)",
   "language": "python",
   "name": "python3"
  },
  "language_info": {
   "codemirror_mode": {
    "name": "ipython",
    "version": 3
   },
   "file_extension": ".py",
   "mimetype": "text/x-python",
   "name": "python",
   "nbconvert_exporter": "python",
   "pygments_lexer": "ipython3",
   "version": "3.10.4"
  }
 },
 "nbformat": 4,
 "nbformat_minor": 5
}
