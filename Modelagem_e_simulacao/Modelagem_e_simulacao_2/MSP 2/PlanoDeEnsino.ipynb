{
 "cells": [
  {
   "cell_type": "markdown",
   "id": "a7bb5d1b-7634-4152-97a0-2c5d96c3ef41",
   "metadata": {},
   "source": [
    "# Modelagem e Simulação de Processos II"
   ]
  },
  {
   "cell_type": "markdown",
   "id": "723fed48-98c3-4ec5-9b47-a5945ee39457",
   "metadata": {},
   "source": [
    "<center>\n",
    "    <img src=\"https://setting.com.br/wp-content/uploads/2020/02/ciclo-gerenciamento-processos.jpg\"\n",
    "         height=\"100%\" width=\"100%\"\n",
    "         />\n",
    "</center>"
   ]
  },
  {
   "cell_type": "markdown",
   "id": "82ecee57-3ad0-4ad7-b68a-11d56e49e48d",
   "metadata": {},
   "source": [
    "--------------------------"
   ]
  },
  {
   "cell_type": "markdown",
   "id": "c54ec615-0733-45d0-b534-14f41b56294b",
   "metadata": {},
   "source": [
    "- ``Docente:`` Nádia Guimarães Sousa\n",
    "- ``email:`` nadiagsousa@gmail.com / nadia.sousa@uftm.edu.br\n",
    "- ``Curso:`` Engenharia Química"
   ]
  },
  {
   "cell_type": "markdown",
   "id": "faec6098-8bb5-4084-a0b9-aeb0c0b6545e",
   "metadata": {},
   "source": [
    "--------------------------"
   ]
  },
  {
   "cell_type": "markdown",
   "id": "8e8e0df7-f2c4-4902-9402-89d8b4214633",
   "metadata": {},
   "source": [
    "### Do que se trata?\n"
   ]
  },
  {
   "cell_type": "markdown",
   "id": "7097431b-ef2a-47f9-b6a4-7372ebbde4c5",
   "metadata": {},
   "source": [
    "--------------------------"
   ]
  },
  {
   "cell_type": "markdown",
   "id": "6c58c85e-b42b-4b8d-8e44-3eb5b3f48641",
   "metadata": {},
   "source": [
    "## EMENTA\n",
    "\n",
    "A seguir temos o sumário dos conteúdos abordados na diciplina:\n",
    "\n",
    "- Análise de processos químicos no estado estacionário\n",
    "- Linearização\n",
    "- Análise do plano de fases\n",
    "- Bifurcação de sistemas dinâmicos\n",
    "- Introdução à identificação de sistemas"
   ]
  },
  {
   "cell_type": "markdown",
   "id": "65534a87-d9d2-4505-8b38-7af6456dc805",
   "metadata": {},
   "source": [
    "--------------------------"
   ]
  },
  {
   "cell_type": "markdown",
   "id": "8520e81c-9392-4fb7-be24-cdcb63952e2e",
   "metadata": {},
   "source": [
    "## BIBLIOGRAFIA\n",
    "- BEQUETTE, B.W. Process Dynamics - Modeling, Analysis and Simulation. Prentice Hall, Upper. Saddle River. 2003;\n",
    "- BARROSO L.C. et al. Cálculo Numérico: com Aplicações, 2a. ed., São Paulo: Harbra, 1987;\n",
    "- RUGGIERO, MÁRCIA A. GOMES; LOPES, VERA LÚCIA DA ROCHA."
   ]
  },
  {
   "cell_type": "markdown",
   "id": "91d7807c-19ea-44e6-86cd-548d7af897ff",
   "metadata": {},
   "source": [
    "--------------------------"
   ]
  },
  {
   "cell_type": "markdown",
   "id": "1ca965bf-3f58-47a9-9835-fe6ddd19d311",
   "metadata": {},
   "source": [
    "## CRONOGRAMA\n",
    "\n",
    "### Provas:\n",
    "    Prova 01 - 10/07/2023\n",
    "    Prova 02 - 28/08/2023\n",
    "    Exame - 13/09/2023\n"
   ]
  },
  {
   "cell_type": "markdown",
   "id": "505e05e2-c01b-409e-9f4c-c18891ba73cc",
   "metadata": {},
   "source": [
    "--------------------------"
   ]
  },
  {
   "cell_type": "markdown",
   "id": "b916b9ea-5609-41e5-b552-63148bb78fed",
   "metadata": {},
   "source": [
    "### AVALIAÇÃO\n",
    "- Exercícios em sala: 10%\n",
    "- Avaliação teórica: 80%\n",
    "- Atividades práticas: 10%"
   ]
  },
  {
   "cell_type": "code",
   "execution_count": 4,
   "id": "1ad9630c-c89e-47b8-94a8-cc6d56963ffe",
   "metadata": {
    "tags": []
   },
   "outputs": [
    {
     "name": "stdout",
     "output_type": "stream",
     "text": [
      "5.08\n"
     ]
    }
   ],
   "source": [
    "Ex = 8\n",
    "A1 = 8.7\n",
    "A2 = 0\n",
    "At = 8\n",
    "\n",
    "Total = (0.1*Ex+0.4*A1+0.4*A2+0.1*At)\n",
    "print(Total)"
   ]
  },
  {
   "cell_type": "markdown",
   "id": "0784f0bd-490f-4e09-9cf1-f21e237bb869",
   "metadata": {},
   "source": [
    "--------------------------"
   ]
  },
  {
   "cell_type": "markdown",
   "id": "66eb5895-5d24-44f6-8e11-6063506f3f32",
   "metadata": {},
   "source": [
    "## ATENDIMENTO\n",
    "1. Terça-feira 10h – 12h – Bloco N – Sala N102 B – Unidade III\n",
    "2. Agendamento via e-mail"
   ]
  },
  {
   "cell_type": "markdown",
   "id": "5e5ce485-a2ed-4e28-8167-729324360188",
   "metadata": {},
   "source": [
    "## Aula Prática\n",
    "\n",
    "P01 - 07/05/2023\n",
    "\n",
    "P02 - 14/05/2023"
   ]
  }
 ],
 "metadata": {
  "kernelspec": {
   "display_name": "Python 3 (ipykernel)",
   "language": "python",
   "name": "python3"
  },
  "language_info": {
   "codemirror_mode": {
    "name": "ipython",
    "version": 3
   },
   "file_extension": ".py",
   "mimetype": "text/x-python",
   "name": "python",
   "nbconvert_exporter": "python",
   "pygments_lexer": "ipython3",
   "version": "3.11.3"
  }
 },
 "nbformat": 4,
 "nbformat_minor": 5
}
