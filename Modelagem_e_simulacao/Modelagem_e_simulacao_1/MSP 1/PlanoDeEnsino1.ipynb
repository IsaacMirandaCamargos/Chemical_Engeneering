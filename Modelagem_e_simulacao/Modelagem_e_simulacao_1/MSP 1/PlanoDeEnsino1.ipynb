{
 "cells": [
  {
   "cell_type": "markdown",
   "id": "a7bb5d1b-7634-4152-97a0-2c5d96c3ef41",
   "metadata": {},
   "source": [
    "# Modelagem e Simulação de Processos I"
   ]
  },
  {
   "cell_type": "markdown",
   "id": "723fed48-98c3-4ec5-9b47-a5945ee39457",
   "metadata": {},
   "source": [
    "<center>\n",
    "    <img src=\"https://e5a5e21295859d53b15f-83f0bd7793a5a4b61ea12de988b1f44d.ssl.cf2.rackcdn.com/uploads/cimm/asset/file/12421/large_shutterstock-digitaltwins.jpg\"\n",
    "         height=\"100%\" width=\"100%\"\n",
    "         />\n",
    "</center>"
   ]
  },
  {
   "cell_type": "markdown",
   "id": "82ecee57-3ad0-4ad7-b68a-11d56e49e48d",
   "metadata": {},
   "source": [
    "--------------------------"
   ]
  },
  {
   "cell_type": "markdown",
   "id": "c54ec615-0733-45d0-b534-14f41b56294b",
   "metadata": {},
   "source": [
    "- ``Docente:`` Nádia Guimarães Sousa\n",
    "- ``email:`` nadiagsousa@gmail.com / nadia.sousa@uftm.edu.br\n",
    "- ``Curso:`` Engenharia Química"
   ]
  },
  {
   "cell_type": "markdown",
   "id": "faec6098-8bb5-4084-a0b9-aeb0c0b6545e",
   "metadata": {},
   "source": [
    "--------------------------"
   ]
  },
  {
   "cell_type": "markdown",
   "id": "8e8e0df7-f2c4-4902-9402-89d8b4214633",
   "metadata": {},
   "source": [
    "##### Do que se trata?\n",
    "Desenvolvimento e classificação de modelos matemáticos dinâmicos e em\n",
    "estado estacionário de unidades de processos químicos. Adimensionalização de\n",
    "modelos matemáticos. Resolução de sistemas de equações aplicados a\n",
    "problemas da Engenharia Química: (sistemas de equações lineares, não\n",
    "lineares, diferenciais ordinárias, diferenciais parciais). Ferramentas\n",
    "computacionais para a simulação e análise dos modelos."
   ]
  },
  {
   "cell_type": "markdown",
   "id": "7097431b-ef2a-47f9-b6a4-7372ebbde4c5",
   "metadata": {},
   "source": [
    "--------------------------"
   ]
  },
  {
   "cell_type": "markdown",
   "id": "6c58c85e-b42b-4b8d-8e44-3eb5b3f48641",
   "metadata": {},
   "source": [
    "## EMENTA\n",
    "Capítulo 1 – Modelos matemáticos e suas classificações\n",
    "- Introdução.\n",
    "- Classificação de modelos.\n",
    "- Condições de contorno.\n",
    "- Hipóteses simplificadores.\n",
    "- Modelos distribuídos e concentrados.\n",
    "- Modelagem de processos envolvendo operações unitárias, termodinâmica, reatores e fenômenos de transporte.\n",
    "- Adimensionalização de modelos.\n",
    "- Forma geral de representação de modelos dinâmicos.\n",
    "\n",
    "Capítulo 2 – Resolução de modelos descritos por equações lineares e não lineares\n",
    "- Métodos diretos.\n",
    "- Métodos indiretos.\n",
    "- Método da Bissecção.\n",
    "- Método da Falsa posição (regula falsi).\n",
    "- Método de Newton-Raphson.\n",
    "- A escolha do método.\n",
    "\n",
    "Capítulo 3 - Resolução de modelos descritos por equações diferenciais ordinárias\n",
    "- Problema do valor inicial.\n",
    "- Método de Euler.\n",
    "- Método de Runge-Kutta.\n",
    "- Métodos multi-passos.\n",
    "- A escolha do método.\n",
    "\n",
    "Capítulo 4 - Resolução de modelos descritos por equações diferenciais parciais\n",
    "- Método das diferenças finitas.\n",
    "- Método da colocação ortogonal.\n",
    "- Método das linhas.\n"
   ]
  },
  {
   "cell_type": "markdown",
   "id": "65534a87-d9d2-4505-8b38-7af6456dc805",
   "metadata": {},
   "source": [
    "--------------------------"
   ]
  },
  {
   "cell_type": "markdown",
   "id": "8520e81c-9392-4fb7-be24-cdcb63952e2e",
   "metadata": {},
   "source": [
    "## BIBLIOGRAFIA\n",
    "#### Básica\n",
    "- BEQUETTE, B.W. Process Dynamics - Modeling, Analysis and Simulation. Prentice Hall, Upper. Saddle River. 2003;\n",
    "- BARROSO L.C.et al. Cálculo Numérico:com Aplicações, 2a. ed., São Paulo: Harbra, 1987;\n",
    "- RUGGIERO, MÁRCIA A. GOMES; LOPES, VERA LÚCIA DA ROCHA. Cálculo numérico: aspectos teóricos e computacionais. 2. ed. São Paulo: Pearson Makron Books, 2009.\n",
    "#### Complementar\n",
    "- RICE, R. G.; DO, D. D. Applied Mathematics and Modeling for Chemical Engineers, John Wiley & Sons, ed 2, 2012;\n",
    "- FOGLER, H. S.; Elementos de Engenharia das Reações Químicas, 3a ed. Rio de Janeiro: LTC, 2009;\n",
    "- STEPHANOPOULOS, G. – Chemical Process Control. An Introduction to Theory and Practice, rentice Hall, 1984;\n",
    "- HOFFMAN, J. D. Numerical Methods for Engineers and Scientists, CRC Press, 2001;\n",
    "- AGUIRRE, L.A. - Introdução à identificação de Sistemas - 3ª ed., Editora UFMG, 730p, 2007."
   ]
  },
  {
   "cell_type": "markdown",
   "id": "91d7807c-19ea-44e6-86cd-548d7af897ff",
   "metadata": {},
   "source": [
    "--------------------------"
   ]
  },
  {
   "cell_type": "markdown",
   "id": "1ca965bf-3f58-47a9-9835-fe6ddd19d311",
   "metadata": {},
   "source": [
    "## CRONOGRAMA\n",
    "\n",
    "### Provas:\n",
    "    Prova 01 - 31/01/2023\n",
    "    Prova 02 - 28/03/2023\n",
    "    Exame - 14/04/2023\n"
   ]
  },
  {
   "cell_type": "markdown",
   "id": "505e05e2-c01b-409e-9f4c-c18891ba73cc",
   "metadata": {},
   "source": [
    "--------------------------"
   ]
  },
  {
   "cell_type": "markdown",
   "id": "b916b9ea-5609-41e5-b552-63148bb78fed",
   "metadata": {},
   "source": [
    "## AVALIAÇÃO\n",
    "- Exercícios em sala: 5%\n",
    "- Avaliação teórica: 70%\n",
    "- Atividades práticas: 15%\n",
    "- Trabalho teórico-prático: 10%"
   ]
  },
  {
   "cell_type": "code",
   "execution_count": 5,
   "id": "1ad9630c-c89e-47b8-94a8-cc6d56963ffe",
   "metadata": {
    "tags": []
   },
   "outputs": [
    {
     "name": "stdout",
     "output_type": "stream",
     "text": [
      "3.7699999999999996\n"
     ]
    }
   ],
   "source": [
    "Ex = 0\n",
    "A1 = 6.7\n",
    "A2 = 0\n",
    "At = 9.5\n",
    "T = 0\n",
    "\n",
    "Total = (0.05*Ex+0.35*A1+0.35*A2+0.15*At+0.1*T)\n",
    "print(Total)"
   ]
  },
  {
   "cell_type": "markdown",
   "id": "0784f0bd-490f-4e09-9cf1-f21e237bb869",
   "metadata": {},
   "source": [
    "--------------------------"
   ]
  },
  {
   "cell_type": "markdown",
   "id": "66eb5895-5d24-44f6-8e11-6063506f3f32",
   "metadata": {},
   "source": [
    "## ATENDIMENTO\n",
    "1. Terça-feira 10h – 12h – Bloco N – Sala N102 B – Unidade III\n",
    "2. Agendamento via e-mail"
   ]
  }
 ],
 "metadata": {
  "kernelspec": {
   "display_name": "Python 3 (ipykernel)",
   "language": "python",
   "name": "python3"
  },
  "language_info": {
   "codemirror_mode": {
    "name": "ipython",
    "version": 3
   },
   "file_extension": ".py",
   "mimetype": "text/x-python",
   "name": "python",
   "nbconvert_exporter": "python",
   "pygments_lexer": "ipython3",
   "version": "3.11.0"
  }
 },
 "nbformat": 4,
 "nbformat_minor": 5
}
