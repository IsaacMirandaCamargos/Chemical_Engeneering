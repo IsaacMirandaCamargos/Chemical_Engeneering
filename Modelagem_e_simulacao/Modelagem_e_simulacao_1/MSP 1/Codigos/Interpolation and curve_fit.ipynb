{
 "cells": [
  {
   "cell_type": "markdown",
   "id": "9d04de61",
   "metadata": {},
   "source": [
    "<h1 align=\"center\"> Polynomial Interpolation </h1>"
   ]
  },
  {
   "cell_type": "markdown",
   "id": "f534c52e",
   "metadata": {},
   "source": [
    "```\n",
    "[yp]= interp1(x, y, [xp], ‘method’) # Basic structure\n",
    "[yp]= interp1(x, y, [xp], ‘linear’) # Linear interpolation\n",
    "[yp]= interp1(x, y, [xp], ‘spline’) # Spline\n",
    "[yp]= interp1(x, y, [xp], ‘nearest’) # Nearest\n",
    "```"
   ]
  },
  {
   "cell_type": "markdown",
   "id": "882d37f4",
   "metadata": {},
   "source": [
    "<h1 align=\"center\"> Curve fit </h1>"
   ]
  },
  {
   "cell_type": "markdown",
   "id": "36871df6",
   "metadata": {},
   "source": [
    "- To do a curve fit we need to define the function that we want to minimize, and pass the parameters that we want to fit.\n",
    "    \n",
    "```\n",
    "    \n",
    "function y = funcao(parametros)\n",
    "    parametro1 = parametros(1)\n",
    "    parametro2 = parametros(2)\n",
    "    .\n",
    "    .\n",
    "    .\n",
    "    y = faz algo\n",
    "    \n",
    "endfunction\n",
    "\n",
    "\n",
    "```\n",
    "\n",
    "- In this case we want to minimize the ( y )."
   ]
  },
  {
   "cell_type": "markdown",
   "id": "23055407",
   "metadata": {},
   "source": [
    "- After that we use the function:\n",
    "\n",
    "```\n",
    "    \n",
    "[mininal_y, parameters_opt] = leastsq(funcao, parametros)\n",
    "    \n",
    "    \n",
    "```\n",
    "- Where parameters_opt, are the best parameters for the function"
   ]
  },
  {
   "cell_type": "markdown",
   "id": "e40bffbc",
   "metadata": {},
   "source": []
  },
  {
   "cell_type": "markdown",
   "id": "c2ae42ca",
   "metadata": {},
   "source": []
  },
  {
   "cell_type": "markdown",
   "id": "adf6f4cb",
   "metadata": {},
   "source": []
  },
  {
   "cell_type": "markdown",
   "id": "cc7b0391",
   "metadata": {},
   "source": []
  }
 ],
 "metadata": {
  "kernelspec": {
   "display_name": "Python 3 (ipykernel)",
   "language": "python",
   "name": "python3"
  },
  "language_info": {
   "codemirror_mode": {
    "name": "ipython",
    "version": 3
   },
   "file_extension": ".py",
   "mimetype": "text/x-python",
   "name": "python",
   "nbconvert_exporter": "python",
   "pygments_lexer": "ipython3",
   "version": "3.11.0"
  },
  "vscode": {
   "interpreter": {
    "hash": "a9440e50afe1c8973b50c87c99389e493c48d20ea70761f52f374fe3dc81ac3b"
   }
  }
 },
 "nbformat": 4,
 "nbformat_minor": 5
}
