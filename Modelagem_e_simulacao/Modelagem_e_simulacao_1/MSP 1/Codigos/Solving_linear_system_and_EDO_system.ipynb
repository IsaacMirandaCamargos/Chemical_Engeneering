{
 "cells": [
  {
   "cell_type": "markdown",
   "id": "71b47283",
   "metadata": {},
   "source": [
    "<h1 align=\"center\"> fsolve"
   ]
  },
  {
   "cell_type": "markdown",
   "id": "2f93b0cf",
   "metadata": {},
   "source": [
    "```\n",
    "\n",
    "                    function y = funcao(xi)\n",
    "\n",
    "                        x1 = xi(1)\n",
    "                        x2 = xi(2)\n",
    "\n",
    "                        y(1) = equação_1(x1,x2)\n",
    "                        y(2) = equação_2(x1,x2)\n",
    "\n",
    "                    endfunction\n",
    "                    \n",
    "                    xi = [x1_i; x2_i] \n",
    "                    [xf, yf, info] = fsolve(xi, funcao)\n",
    "                    \n",
    "\n",
    "```"
   ]
  },
  {
   "cell_type": "markdown",
   "id": "7eaa1b02",
   "metadata": {},
   "source": [
    "<h1 align=\"center\"> ode"
   ]
  },
  {
   "cell_type": "markdown",
   "id": "d1adf03a",
   "metadata": {},
   "source": [
    "```\n",
    "\n",
    "                    function y = funcao(t, xi)\n",
    "\n",
    "                        x1 = xi(1)\n",
    "                        x2 = xi(2)\n",
    "\n",
    "                        y(1) = equação_1(x1,x2)\n",
    "                        y(2) = equação_2(x1,x2)\n",
    "\n",
    "                    endfunction\n",
    "                    \n",
    "                    \n",
    "                    xi = [x1_i; x2_i]\n",
    "                    t = [ti: step: tf]\n",
    "                    xf = ode(xi, t(1), t, funcao)\n",
    "                    \n",
    "                    \n",
    "\n",
    "```"
   ]
  }
 ],
 "metadata": {
  "kernelspec": {
   "display_name": "Python 3 (ipykernel)",
   "language": "python",
   "name": "python3"
  },
  "language_info": {
   "codemirror_mode": {
    "name": "ipython",
    "version": 3
   },
   "file_extension": ".py",
   "mimetype": "text/x-python",
   "name": "python",
   "nbconvert_exporter": "python",
   "pygments_lexer": "ipython3",
   "version": "3.11.0"
  },
  "vscode": {
   "interpreter": {
    "hash": "a9440e50afe1c8973b50c87c99389e493c48d20ea70761f52f374fe3dc81ac3b"
   }
  }
 },
 "nbformat": 4,
 "nbformat_minor": 5
}
