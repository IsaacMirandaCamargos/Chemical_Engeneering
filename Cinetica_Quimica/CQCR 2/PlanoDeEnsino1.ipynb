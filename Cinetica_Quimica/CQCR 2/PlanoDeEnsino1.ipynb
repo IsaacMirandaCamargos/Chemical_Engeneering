{
 "cells": [
  {
   "cell_type": "markdown",
   "id": "a7bb5d1b-7634-4152-97a0-2c5d96c3ef41",
   "metadata": {},
   "source": [
    "# Cinética Química e Cálculo de Reatores 2"
   ]
  },
  {
   "cell_type": "markdown",
   "id": "723fed48-98c3-4ec5-9b47-a5945ee39457",
   "metadata": {},
   "source": [
    "<center>\n",
    "    <img src=\"https://media.istockphoto.com/id/1297436157/pt/foto/at-dusk-the-thermal-power-plants.jpg?s=612x612&w=0&k=20&c=8Y79O549as8KSH6NAuVuhQFIFEJQxzemZBDklDGmw5U=\"\n",
    "         height=\"100%\" width=\"100%\"\n",
    "         />\n",
    "</center>"
   ]
  },
  {
   "cell_type": "markdown",
   "id": "82ecee57-3ad0-4ad7-b68a-11d56e49e48d",
   "metadata": {},
   "source": [
    "--------------------------"
   ]
  },
  {
   "cell_type": "markdown",
   "id": "c54ec615-0733-45d0-b534-14f41b56294b",
   "metadata": {},
   "source": [
    "- ``Docente:`` Priscila \n",
    "- ``email:`` priscila.silva@uftm.edu.br\n",
    "- ``Curso:`` Engenharia Química"
   ]
  },
  {
   "cell_type": "markdown",
   "id": "faec6098-8bb5-4084-a0b9-aeb0c0b6545e",
   "metadata": {},
   "source": [
    "--------------------------"
   ]
  },
  {
   "cell_type": "markdown",
   "id": "6c58c85e-b42b-4b8d-8e44-3eb5b3f48641",
   "metadata": {},
   "source": [
    "## EMENTA\n",
    "- Projeto de reatores não-isotérmicos em estado estacionário;\n",
    "- Projeto de reatores não-isotérmicos com variação de pressão;\n",
    "- Projeto de reatores não-isotérmicos em estado não estacionário;\n",
    "- Distribuições de tempo de residência para reatores químicos;\n",
    "- Modelos para reatores não ideais."
   ]
  },
  {
   "cell_type": "markdown",
   "id": "65534a87-d9d2-4505-8b38-7af6456dc805",
   "metadata": {},
   "source": [
    "--------------------------"
   ]
  },
  {
   "cell_type": "markdown",
   "id": "8520e81c-9392-4fb7-be24-cdcb63952e2e",
   "metadata": {},
   "source": [
    "## BIBLIOGRAFIA\n",
    "\n",
    "- FOGLER, H.S. Elementos de Engenharia das Reações Químicas. 4° ed. 2009.Editora LTC.\n",
    "- LEVENSPIEL, O. Engenharia das Reações Químicas. 3° ed. Editora Edgard Blucher.\n",
    "- ROBERTS, G.W. Reações químicas e reatores químicos. 2010. 1° ed. Editora LTC.\n",
    "- SCHMAL, M. Cinética e Reatores. Aplicação na Engenharia Química. Editora Synergia.\n",
    "- SOUZA, A.A; FARIAS, R.F. Cinética Química: Teoria e Prática. Editora Átomo.\n",
    "- MASTERTON.W.L.; HURLEYC.N. Química Princípios e Reações. 6° ed. Editora LTC.\n",
    "- KOTZ, J. C.; TREICHEL, P. M.; WEAVER, G. C.. “Química geral e reações químicas”, vol.1 e 2. SãoPaulo:Cengage Learning,2010. 609 p.\n",
    "- ATKINS, P.; JONES, L. “Princípios de química: questionando a vida moderna e o meio ambiente”. 5ª ed. Porto Alegre: Bookman, 2007. xv, 964 p.\n",
    "\n"
   ]
  },
  {
   "cell_type": "markdown",
   "id": "91d7807c-19ea-44e6-86cd-548d7af897ff",
   "metadata": {},
   "source": [
    "--------------------------"
   ]
  },
  {
   "cell_type": "markdown",
   "id": "1ca965bf-3f58-47a9-9835-fe6ddd19d311",
   "metadata": {},
   "source": [
    "## CRONOGRAMA\n",
    "\n",
    "### Volta das aulas em janeiro:\n",
    "    As aulas em janeiro retornam no dia 16/01/23.\n",
    "\n",
    "### Provas:\n",
    "    01/02/23 (1° Avaliação) - 2,5 pontos\n",
    "    08/03/23 (2° Avaliação) – 2,5 pontos\n",
    "    03/04/23 (3° Avaliação) – 2,5 pontos\n",
    "    12/04/23 (Exame – Horário de aula)\n",
    "    \n",
    "### Trabalho:\n",
    "    \n",
    "- Trabalho em grupo (6 alunos): 2,5 pontos\n",
    "    - Empresa de consultoria e desenvolvimento de projeto de reatores\n",
    "    - Elaboração de um site com possibilidade de simulação de casos reais envolvendo as variáveis. Ex: Cálculo de volume de reator, conversão, Temperatura e Pressão.\n",
    "    - Realização de um vídeo com a participação de todos do grupo, apresentando o site, suas funcionalidades e vendendo a possibilidade de firmar parcerias com empresas.\n",
    "    - Entrega: 29/03/23\n",
    "- Observações:\n",
    "    - Exercícios serão realizados semanalmente em sala e para a realização posterior\n",
    "    - Obrigatória à presença na aula"
   ]
  },
  {
   "cell_type": "markdown",
   "id": "505e05e2-c01b-409e-9f4c-c18891ba73cc",
   "metadata": {},
   "source": [
    "--------------------------"
   ]
  },
  {
   "cell_type": "markdown",
   "id": "b916b9ea-5609-41e5-b552-63148bb78fed",
   "metadata": {},
   "source": [
    "## AVALIAÇÃO\n",
    "- Avaliação teórica: 75%\n",
    "- Trabalho teórico-prático: 25%"
   ]
  },
  {
   "cell_type": "code",
   "execution_count": 3,
   "id": "529aa991-ed9c-4935-b79b-c331251f23be",
   "metadata": {
    "tags": []
   },
   "outputs": [
    {
     "name": "stdout",
     "output_type": "stream",
     "text": [
      "7.125\n"
     ]
    }
   ],
   "source": [
    "P1 = 7.5\n",
    "P2 = 8\n",
    "P3 = 3\n",
    "T = 10\n",
    "\n",
    "Total = (0.25*P1+0.25*P2+0.25*P3+0.25*T)\n",
    "print(Total)"
   ]
  },
  {
   "cell_type": "markdown",
   "id": "0784f0bd-490f-4e09-9cf1-f21e237bb869",
   "metadata": {},
   "source": [
    "--------------------------"
   ]
  },
  {
   "cell_type": "markdown",
   "id": "66eb5895-5d24-44f6-8e11-6063506f3f32",
   "metadata": {},
   "source": [
    "## ATENDIMENTO\n",
    "    Quarta-feira 15h – 17h – Bloco N – Sala \n"
   ]
  }
 ],
 "metadata": {
  "kernelspec": {
   "display_name": "Python 3 (ipykernel)",
   "language": "python",
   "name": "python3"
  },
  "language_info": {
   "codemirror_mode": {
    "name": "ipython",
    "version": 3
   },
   "file_extension": ".py",
   "mimetype": "text/x-python",
   "name": "python",
   "nbconvert_exporter": "python",
   "pygments_lexer": "ipython3",
   "version": "3.11.0"
  }
 },
 "nbformat": 4,
 "nbformat_minor": 5
}
