{
 "cells": [
  {
   "cell_type": "markdown",
   "id": "6ee30d5a-75c6-485b-b146-14133b592a57",
   "metadata": {},
   "source": []
  },
  {
   "cell_type": "markdown",
   "id": "40d82296-f6bd-4664-90cb-414cda869767",
   "metadata": {},
   "source": []
  },
  {
   "cell_type": "markdown",
   "id": "671f0f41-2eab-44df-b3bf-dc99f5797288",
   "metadata": {},
   "source": []
  },
  {
   "cell_type": "markdown",
   "id": "e9a48dda-55ca-4c59-9e68-75a8a27b3ddf",
   "metadata": {},
   "source": []
  },
  {
   "cell_type": "markdown",
   "id": "b2f47567-e409-49d2-ae28-0e53705145e0",
   "metadata": {},
   "source": []
  },
  {
   "cell_type": "markdown",
   "id": "bcd35ebe-8d4c-4665-8eba-ae883a147295",
   "metadata": {},
   "source": []
  },
  {
   "cell_type": "markdown",
   "id": "37955d9f-9b92-4d49-b67c-d68a18c5df2c",
   "metadata": {},
   "source": []
  },
  {
   "cell_type": "markdown",
   "id": "5fecc6cc-f45b-41c5-8750-38ca9fa15353",
   "metadata": {},
   "source": []
  },
  {
   "cell_type": "markdown",
   "id": "051f8f8b-a75a-408b-b3a3-815b5ea102d0",
   "metadata": {},
   "source": []
  },
  {
   "cell_type": "markdown",
   "id": "b9fd13ce-0e55-446c-bfa6-7a8da5bd0f7a",
   "metadata": {},
   "source": []
  },
  {
   "cell_type": "markdown",
   "id": "ecaa1038-a074-469e-8e7e-4a9ee578aed0",
   "metadata": {},
   "source": []
  },
  {
   "cell_type": "markdown",
   "id": "3df13d9f-ecc9-4fbb-8802-ce8a74db7164",
   "metadata": {},
   "source": []
  },
  {
   "cell_type": "markdown",
   "id": "db49ed3a-b5b2-455c-949c-6b5a5c19cb17",
   "metadata": {},
   "source": []
  },
  {
   "cell_type": "markdown",
   "id": "8488be23-cf77-4f91-809c-0bc23ab4ac04",
   "metadata": {},
   "source": []
  },
  {
   "cell_type": "markdown",
   "id": "88dae184-ecef-4334-92b1-9d1742cfaacc",
   "metadata": {},
   "source": []
  },
  {
   "cell_type": "markdown",
   "id": "792b29a4-99d6-4499-a3d3-8db1aa533266",
   "metadata": {},
   "source": []
  },
  {
   "cell_type": "markdown",
   "id": "58472623-15fd-4a03-a95e-3a5e9cdbe5ae",
   "metadata": {},
   "source": []
  },
  {
   "cell_type": "markdown",
   "id": "02760291-97cb-417d-bad2-a4e0dad0750c",
   "metadata": {},
   "source": []
  },
  {
   "cell_type": "markdown",
   "id": "888cfe0b-d86c-44ad-a1bb-690d7e2719a7",
   "metadata": {},
   "source": []
  },
  {
   "cell_type": "markdown",
   "id": "a999becd-63b8-488b-9d4b-e3b87fc0d5ac",
   "metadata": {},
   "source": []
  },
  {
   "cell_type": "markdown",
   "id": "40f07238-6f90-4095-8bb3-bcba8805f35e",
   "metadata": {},
   "source": []
  },
  {
   "cell_type": "markdown",
   "id": "c247c9cd-f849-4614-8e0b-87f6775205a7",
   "metadata": {},
   "source": []
  },
  {
   "cell_type": "markdown",
   "id": "d5ed6786-ac19-417e-b631-28126fa92cea",
   "metadata": {},
   "source": []
  },
  {
   "cell_type": "markdown",
   "id": "eb9f2d1c-d981-4a3f-8eb1-d172216dbd3a",
   "metadata": {},
   "source": []
  },
  {
   "cell_type": "markdown",
   "id": "63886738-8fa7-49af-8197-7372c09abb41",
   "metadata": {},
   "source": []
  },
  {
   "cell_type": "markdown",
   "id": "0748e3be-00ef-423d-b76b-50e8ee4bc04c",
   "metadata": {},
   "source": []
  },
  {
   "cell_type": "markdown",
   "id": "a2bbd308-a19e-45f4-954e-f0e661d76e9c",
   "metadata": {},
   "source": []
  },
  {
   "cell_type": "markdown",
   "id": "fd38841e-f761-4a53-806c-b87fa0846bbf",
   "metadata": {},
   "source": []
  },
  {
   "cell_type": "markdown",
   "id": "25157b19-14e8-4a16-8b60-044c4a29f827",
   "metadata": {},
   "source": []
  },
  {
   "cell_type": "markdown",
   "id": "cc8930dd-be43-4ed3-bb13-4ea25022ccb1",
   "metadata": {},
   "source": []
  },
  {
   "cell_type": "markdown",
   "id": "a04759c0-067e-4fb9-8426-158ee41feb14",
   "metadata": {},
   "source": []
  }
 ],
 "metadata": {
  "kernelspec": {
   "display_name": "Python 3 (ipykernel)",
   "language": "python",
   "name": "python3"
  },
  "language_info": {
   "codemirror_mode": {
    "name": "ipython",
    "version": 3
   },
   "file_extension": ".py",
   "mimetype": "text/x-python",
   "name": "python",
   "nbconvert_exporter": "python",
   "pygments_lexer": "ipython3",
   "version": "3.12.1"
  }
 },
 "nbformat": 4,
 "nbformat_minor": 5
}
