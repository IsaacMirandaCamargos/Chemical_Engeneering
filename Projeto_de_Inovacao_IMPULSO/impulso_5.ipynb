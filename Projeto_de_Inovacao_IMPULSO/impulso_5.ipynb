{
 "cells": [
  {
   "cell_type": "markdown",
   "id": "673239b3-c787-4316-a1ca-b8c898722b7d",
   "metadata": {},
   "source": [
    "<h1> # Pitch"
   ]
  },
  {
   "cell_type": "markdown",
   "id": "f26f36b3-56a5-4fd6-a46f-453d58f5ca85",
   "metadata": {},
   "source": [
    "Criando um pitch de sucesso:\n",
    "\n",
    "- **Introdução**: Quem somos? O que fazemos?\n",
    "- **Problema**: Apresentar o problema de forma clara (alto tempo de logistica despende de muitos recursos), arquitetura dos espaços de armazenamento (ela é otimizada?).\n",
    "- **Tamanho de mercado**: Os possíveis clientes para a solução deste problema, seriam médias e grandes empresas com CD, supermercados atacadistas e/ou que trabalham com grande fluxo de mercádorias. (apresentar dados) (magazine luiza)\n",
    "- **Solução**: A solução deste problema envolve a analise e desenvolvimento computacional de soluções logisticas de grande eficiência, ou seja, otimização computacional seguida de sua aplicação real. (algoritmos genéticos)\n",
    "- **Modelo de negócio**: Vendendo a licensa do software (vitálicio, atualização até 1 ano), pagamento de mensalidade (atualização frequente), pagamento por número de execuções.\n",
    "- **Análise da Concorrência**: VitalsisWMS, eles atualmente operando utilizando algoritmos genéticos, porem o algoritmo deles entrega apenas o próximo ponto mais próximo. (Concorrência direta)\n",
    "- **Linha do tempo**: Idealização da solução (agência UFTM de inovação) -> parceria com a Stanley Black & Decker -> Maturação da ideia -> continuing...\n",
    "- **Time**: Paulo: Estruturas de dados, programação, lógica, criatividade, reinforcement learning, problemas de otimização. Isaac: programação, criatividade, lógica, algoritmos genéticos, problemas benchmark, problemas de logistica. Cruvinel: Hackthons, venda de tecnologias, idealização de produtos, conhecimento sobre tecnologias, experiência com empresas e programação.\n",
    "- **Investimento**: A princípio nada, porem para escalar a solução será necessário investimento em infraestrutura. (hardware, servidores e mão de obra especializada)\n",
    "- **Fechamento**: Investimento a partir do momento que a solução estiver pronta, network para vender a solução, recursos de infraestrutura e mão de obra."
   ]
  },
  {
   "cell_type": "markdown",
   "id": "73902a9a-5118-4522-b0f3-5e22bcf9d991",
   "metadata": {},
   "source": []
  },
  {
   "cell_type": "markdown",
   "id": "9494cf92-1fda-40a6-b89a-cd53f8ec7924",
   "metadata": {},
   "source": []
  },
  {
   "cell_type": "markdown",
   "id": "2332a049-cf86-4456-bf14-da83bc569622",
   "metadata": {},
   "source": []
  },
  {
   "cell_type": "markdown",
   "id": "515cb158-d51d-451f-b86b-ef5f062b4c88",
   "metadata": {},
   "source": []
  },
  {
   "cell_type": "markdown",
   "id": "e2f2fe9c-3671-47f3-8627-3a363fe103c1",
   "metadata": {},
   "source": []
  },
  {
   "cell_type": "markdown",
   "id": "94bbc5ff-2bb3-4055-aca3-83016789b0df",
   "metadata": {},
   "source": []
  },
  {
   "cell_type": "markdown",
   "id": "5f101955-f526-4786-bbe1-3951c6b9af1f",
   "metadata": {},
   "source": []
  },
  {
   "cell_type": "markdown",
   "id": "baa6a8bf-c3f0-480d-81a4-a6bd08d71841",
   "metadata": {},
   "source": []
  },
  {
   "cell_type": "markdown",
   "id": "869ff6eb-d78d-4a8b-be2a-5c5707aeffea",
   "metadata": {},
   "source": []
  },
  {
   "cell_type": "markdown",
   "id": "d22ca9da-6d5b-4d1c-b489-0d968a89f8da",
   "metadata": {},
   "source": []
  },
  {
   "cell_type": "markdown",
   "id": "d726702e-c816-4321-808e-4ff60de0e477",
   "metadata": {},
   "source": []
  },
  {
   "cell_type": "markdown",
   "id": "c9180ee9-025a-4658-80ba-6f54f69828f6",
   "metadata": {},
   "source": []
  }
 ],
 "metadata": {
  "kernelspec": {
   "display_name": "Python 3 (ipykernel)",
   "language": "python",
   "name": "python3"
  },
  "language_info": {
   "codemirror_mode": {
    "name": "ipython",
    "version": 3
   },
   "file_extension": ".py",
   "mimetype": "text/x-python",
   "name": "python",
   "nbconvert_exporter": "python",
   "pygments_lexer": "ipython3",
   "version": "3.10.4"
  }
 },
 "nbformat": 4,
 "nbformat_minor": 5
}
