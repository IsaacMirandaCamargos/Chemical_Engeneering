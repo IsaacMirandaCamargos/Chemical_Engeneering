{
 "cells": [
  {
   "cell_type": "code",
   "execution_count": 1,
   "id": "efd42c5d-2e61-4872-9a03-28a04267a7bb",
   "metadata": {
    "tags": []
   },
   "outputs": [],
   "source": [
    "import math\n",
    "import matplotlib.pyplot as plt\n",
    "\n",
    "\n",
    "class Fluido:\n",
    "    def __init__(self, densidade, viscosidade) -> None:\n",
    "        self.densidade = densidade\n",
    "        self.viscosidade = viscosidade\n",
    "\n",
    "\n",
    "class Elutriador:\n",
    "    def __init__(self, vazao, diametro, fluido, solido, massa_retida) -> None:\n",
    "        self.vazao = vazao\n",
    "        self.diametro = diametro\n",
    "        self.area = (math.pi*diametro**2)/4\n",
    "        self.velocidade = vazao/self.area\n",
    "        self.gravidade = 980\n",
    "        self.massa_retida = massa_retida\n",
    "\n",
    "        # Outros componentes\n",
    "        self.fluido = fluido\n",
    "        self.solido = solido\n",
    "    def Cd_div_Reynolds(self):\n",
    "        cd_div_reynolds = (4*(self.solido.densidade - self.fluido.densidade)*self.fluido.viscosidade*self.gravidade)/(3*self.fluido.densidade**(2)*self.velocidade**3)\n",
    "        return cd_div_reynolds\n",
    "    def Reynolds(self):\n",
    "        t1 = (24*(self.Cd_div_Reynolds())**(-1))**(0.88/2)\n",
    "        t2 = (0.43*(self.Cd_div_Reynolds())**(-1))**(0.88)\n",
    "        reynolds = (t1 + t2)**(1/0.88)\n",
    "        return reynolds\n",
    "    def Diametro_particula(self):\n",
    "        diametro_particula_coletada = self.fluido.viscosidade*self.Reynolds()/(self.velocidade*self.fluido.densidade)\n",
    "        return diametro_particula_coletada\n",
    "    \n",
    "class Solido:\n",
    "    def __init__(self, densidade, massa, diametro_min=0, diametro_max=0) -> None:\n",
    "        self.densidade = densidade\n",
    "        self.massa = massa\n",
    "        self.diametro_min = diametro_min\n",
    "        self.diametro_max = diametro_max\n",
    "\n",
    "class Sistema_de_Elutriadores:\n",
    "    def __init__(self, massa_saida,*elutriadores) -> None:\n",
    "        self.massa_saida = massa_saida\n",
    "        self.sistema = list(elutriadores)\n",
    "        \n",
    "    def Massa_total(self):\n",
    "        massa_total = self.massa_saida\n",
    "        for i in self.sistema:\n",
    "            massa_total += i.massa_retida\n",
    "        return massa_total\n",
    "    \n",
    "    def Fração_massica_retida(self):\n",
    "        massa_total = self.Massa_total()\n",
    "        fracao_massica = []\n",
    "        for i in self.sistema:\n",
    "            fracao_massica.append(i.massa_retida/massa_total)\n",
    "        fracao_massica.append(self.massa_saida/massa_total)\n",
    "        return fracao_massica\n",
    "    \n",
    "    def Diametros_coletados_min(self):\n",
    "        diametros = []\n",
    "        for i in self.sistema:\n",
    "            diametros.append(i.Diametro_particula())\n",
    "        diametros.append(0)\n",
    "        return diametros"
   ]
  },
  {
   "cell_type": "code",
   "execution_count": 2,
   "id": "00101d59-ba4d-4a40-9503-5d0a231311aa",
   "metadata": {
    "tags": []
   },
   "outputs": [],
   "source": [
    "solido = Solido(2650, None, diametro_max=55e-6)\n",
    "fluido = Fluido(997, 0.890e-3)\n",
    "elutriador1 = Elutriador(0.001, 55e-6, fluido, solido, 1)\n",
    "elutriador2 = Elutriador(0.001, 40e-6, fluido, solido, 1)\n",
    "elutriador3 = Elutriador(0.001, 25e-6, fluido, solido, 1)\n",
    "elutriador4 = Elutriador(0.001, 10e-6, fluido, solido, 1)\n"
   ]
  },
  {
   "cell_type": "code",
   "execution_count": 1,
   "id": "260d96bf-c470-4f09-af3f-8e2a85e72de6",
   "metadata": {},
   "outputs": [
    {
     "data": {
      "text/plain": [
       "[<matplotlib.lines.Line2D at 0x2e2b6e39990>]"
      ]
     },
     "execution_count": 1,
     "metadata": {},
     "output_type": "execute_result"
    },
    {
     "data": {
      "image/png": "[encoded data removed]",
      "text/plain": [
       "<Figure size 432x288 with 1 Axes>"
      ]
     },
     "metadata": {
      "needs_background": "light"
     },
     "output_type": "display_data"
    }
   ],
   "source": [
    "solido = Solido(1.8, 25, diametro_max=0.01)\n",
    "fluido = Fluido(1, 0.01)\n",
    "elutriador1 = Elutriador(37/60, 3, fluido, solido, 4.62)\n",
    "elutriador2 = Elutriador(37/60, 4, fluido, solido, 6.75)\n",
    "elutriador3 = Elutriador(37/60, 6, fluido, solido, 7.75)\n",
    "elutriador4 = Elutriador(37/60, 12, fluido, solido, 4.42)\n",
    "\n",
    "sistema = Sistema_de_Elutriadores(1.45, elutriador1, elutriador2, elutriador3, elutriador4)\n",
    "\n",
    "fracao_massica = sistema.Fração_massica_retida()\n",
    "diametros = sistema.Diametros_coletados_min()\n",
    "\n",
    "plt.plot(diametros, fracao_massica)"
   ]
  },
  {
   "cell_type": "code",
   "execution_count": 8,
   "id": "9c45e125",
   "metadata": {},
   "outputs": [],
   "source": [
    "import math\n",
    "import pandas as pd\n",
    "\n",
    "class Reynolds_de_particulas:\n",
    "    \n",
    "    def __init__(self, pf, u, ps, esfericidade, concentracao, g, vazao ,dp=None, vt=None) -> None:\n",
    "        self.pf = pf\n",
    "        self.u = u\n",
    "        self.ps = ps\n",
    "        self.dp = dp\n",
    "        self.esfericidade = esfericidade\n",
    "        self.concentracao = concentracao\n",
    "        self.g = g\n",
    "        self.vt = vt\n",
    "        self.vazao = vazao\n",
    "        pass\n",
    "\n",
    "\n",
    "    def Cd_reynolds_quadrado(self):\n",
    "        numerador = 4*self.pf*(self.ps-self.pf)*self.g*self.dp**3\n",
    "        denominador = 3*self.u**2\n",
    "        self.cd_reynolds_quadrado = numerador/denominador\n",
    "        return numerador/denominador\n",
    "\n",
    "    def Reynolds_calculator(self):\n",
    "        from math import log10\n",
    "        self.k1 = 0.843*log10(self.esfericidade/0.065)\n",
    "        self.k2 = 5.31 - 4.88*self.esfericidade\n",
    "        if self.vt == None:\n",
    "            a = self.Cd_reynolds_quadrado()\n",
    "            if self.esfericidade == 1:\n",
    "                self.reynolds = ((a/24)**-0.95 + (a/0.43)**(-0.95/2))**(-1/0.95)\n",
    "                return self.reynolds\n",
    "            elif self.esfericidade != 1:\n",
    "                n = 1.2\n",
    "                self.reynolds = ((self.k1*a/24)**-n + (a/self.k2)**(-0.5*n))**(-1/n)\n",
    "                return self.reynolds\n",
    "\n",
    "    def terminal_velocite(self):\n",
    "        self.reynolds = self.Reynolds_calculator()\n",
    "        self.v_terminal = self.reynolds*self.u/(self.dp*self.pf)\n",
    "        return self.v_terminal\n",
    "    \n",
    "    def diameters_and_area_of_elutriator(self):\n",
    "        self.area = self.vazao/self.terminal_velocite()\n",
    "        self.diameter = math.sqrt(4*self.area/math.pi)\n",
    "        return self.area, self.diameter*100\n",
    "    \n",
    "    def print_all(self):\n",
    "        lixo = self.diameters_and_area_of_elutriator()\n",
    "        lista = [self.cd_reynolds_quadrado, self.k1, self.k2, self.reynolds, self.dp, self.v_terminal,self.area, self.diameter]\n",
    "        return lista\n",
    "\n",
    "elemento = \"agua\"\n",
    "d = 999.8395\n",
    "u = 1.0020*10**(-3)\n",
    "nome = f\"{elemento}_d={d}_u={u}_T=25°C\"\n",
    "elutriador1 = Reynolds_de_particulas(d, u, 2200, 0.8, 1, 9.81, 1*10**-3, dp=55*10**-6)\n",
    "elutriador2 = Reynolds_de_particulas(d, u, 2200, 0.8, 1, 9.81, 1*10**-3, dp=40*10**-6)\n",
    "elutriador3 = Reynolds_de_particulas(d, u, 2200, 0.8, 1, 9.81, 1*10**-3, dp=25*10**-6)\n",
    "elutriador4 = Reynolds_de_particulas(d, u, 2200, 0.8, 1, 9.81, 1*10**-3, dp=10*10**-6)\n",
    "\n",
    "lista = [elutriador1, elutriador2, elutriador3, elutriador4]\n",
    "respostas = []\n",
    "for i in lista:\n",
    "    respostas.append(i.print_all())\n",
    "\n",
    "respostas = pd.DataFrame(respostas, columns= [\"CdRe²\", \"k1\", \"k2\", \"Re\", \"Diâmetro max (m)\", \"Velocidade terminal (m/s)\", \"Área elutriador (m²)\", \"Diâmetro elutriador (m)\", ])\n",
    "respostas\n",
    "\n",
    "respostas.to_excel(f\"{nome}.xlsx\")\n"
   ]
  }
 ],
 "metadata": {
  "kernelspec": {
   "display_name": "Python 3 (ipykernel)",
   "language": "python",
   "name": "python3"
  },
  "language_info": {
   "codemirror_mode": {
    "name": "ipython",
    "version": 3
   },
   "file_extension": ".py",
   "mimetype": "text/x-python",
   "name": "python",
   "nbconvert_exporter": "python",
   "pygments_lexer": "ipython3",
   "version": "3.10.10"
  },
  "vscode": {
   "interpreter": {
    "hash": "a9440e50afe1c8973b50c87c99389e493c48d20ea70761f52f374fe3dc81ac3b"
   }
  }
 },
 "nbformat": 4,
 "nbformat_minor": 5
}
