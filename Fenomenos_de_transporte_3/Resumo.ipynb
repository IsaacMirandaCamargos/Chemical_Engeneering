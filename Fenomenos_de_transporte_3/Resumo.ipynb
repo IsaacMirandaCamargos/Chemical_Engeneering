{
 "cells": [
  {
   "cell_type": "markdown",
   "id": "036c2cac-65ea-4978-8831-fd99a5f080c4",
   "metadata": {},
   "source": [
    "<h1 align=\"center\"> Fenomenos de transporte 3"
   ]
  },
  {
   "cell_type": "markdown",
   "id": "602fe0f8-760c-4ad4-b00a-2c3d0d7c135b",
   "metadata": {},
   "source": [
    "\n",
    "\n"
   ]
  },
  {
   "cell_type": "markdown",
   "id": "5288cf4f-3c61-416b-84fa-cd91722ee6a5",
   "metadata": {},
   "source": [
    "\n",
    "\n"
   ]
  },
  {
   "cell_type": "markdown",
   "id": "80bd14d0-6efd-4531-9e65-c9d022c7437a",
   "metadata": {},
   "source": [
    "\n",
    "\n"
   ]
  },
  {
   "cell_type": "markdown",
   "id": "42d5eae1-1445-4960-b765-b8dd7ef83b96",
   "metadata": {},
   "source": [
    "\n",
    "\n"
   ]
  },
  {
   "cell_type": "markdown",
   "id": "911c873c-5aa7-4f68-b1f7-c76c7833fa93",
   "metadata": {},
   "source": [
    "\n",
    "\n"
   ]
  },
  {
   "cell_type": "markdown",
   "id": "236d2be5-4fd4-4059-829d-39181c7d4ea1",
   "metadata": {},
   "source": [
    "\n",
    "\n"
   ]
  },
  {
   "cell_type": "markdown",
   "id": "5dec8e10-8450-4127-b53d-215338781e6d",
   "metadata": {},
   "source": [
    "\n",
    "\n"
   ]
  },
  {
   "cell_type": "markdown",
   "id": "ead3ad33-9341-49bd-8390-8bd5eedf1fd7",
   "metadata": {},
   "source": [
    "\n",
    "\n"
   ]
  },
  {
   "cell_type": "markdown",
   "id": "f19f8530-ea74-4c7a-8917-96399e9c6423",
   "metadata": {},
   "source": [
    "\n",
    "\n"
   ]
  },
  {
   "cell_type": "markdown",
   "id": "1a87d936-afe2-49b7-bb99-694e6aa5119b",
   "metadata": {},
   "source": [
    "\n",
    "\n"
   ]
  },
  {
   "cell_type": "markdown",
   "id": "b18ae7eb-61bb-4f33-bc8f-d92876c138c5",
   "metadata": {},
   "source": [
    "<center><img src=\"https://i.pinimg.com/564x/10/6c/8a/106c8a51113e463651c217fd93dc742c.jpg\"></center>"
   ]
  },
  {
   "cell_type": "markdown",
   "id": "6a2df56d-4f77-4fb3-9d19-3cd76349d9c6",
   "metadata": {},
   "source": [
    "\n",
    "\n"
   ]
  },
  {
   "cell_type": "markdown",
   "id": "c99fb4f7-b88f-423d-b74c-bab2730696e9",
   "metadata": {},
   "source": [
    "\n",
    "\n"
   ]
  },
  {
   "cell_type": "markdown",
   "id": "c80eb0bf-601b-46a7-a033-bada3b9713a6",
   "metadata": {},
   "source": [
    "\n",
    "\n"
   ]
  },
  {
   "cell_type": "markdown",
   "id": "975a224d-d835-43e9-9ee3-d733c79c93a8",
   "metadata": {},
   "source": [
    "\n",
    "\n"
   ]
  },
  {
   "cell_type": "markdown",
   "id": "3bb48b04-0440-4f4a-8c5c-b70ca2e53477",
   "metadata": {},
   "source": [
    "\n",
    "\n"
   ]
  },
  {
   "cell_type": "markdown",
   "id": "63c6995f-eb88-4a4e-945a-9826241bea10",
   "metadata": {},
   "source": [
    "\n",
    "\n"
   ]
  },
  {
   "cell_type": "markdown",
   "id": "acedf2ad-0ea9-44a4-90a2-a9971eb8f3bf",
   "metadata": {},
   "source": [
    "\n",
    "\n"
   ]
  },
  {
   "cell_type": "markdown",
   "id": "bac1c30f-d994-44fc-b520-e09b9e400597",
   "metadata": {},
   "source": [
    "\n",
    "\n"
   ]
  },
  {
   "cell_type": "markdown",
   "id": "233a5214-969c-4fea-b744-3c8d935c53c8",
   "metadata": {},
   "source": [
    "\n",
    "\n"
   ]
  },
  {
   "cell_type": "markdown",
   "id": "1012a2c2-d155-4267-9494-ecf7c48a4305",
   "metadata": {},
   "source": [
    "\n",
    "\n"
   ]
  },
  {
   "cell_type": "markdown",
   "id": "50bc62ba-a7d7-4307-a816-7fbb2fab3ff6",
   "metadata": {},
   "source": [
    "\n",
    "\n"
   ]
  },
  {
   "cell_type": "markdown",
   "id": "c3cef44b-97bf-4f00-8ba2-721a06bc7fbd",
   "metadata": {},
   "source": [
    "\n",
    "\n"
   ]
  },
  {
   "cell_type": "markdown",
   "id": "f642fae5-d074-4f63-ab40-d17e638a97b7",
   "metadata": {},
   "source": [
    "---"
   ]
  },
  {
   "cell_type": "markdown",
   "id": "e0c0f520-9713-4351-a48b-f47259c350bb",
   "metadata": {},
   "source": [
    "<h1> # Transferência de massa"
   ]
  },
  {
   "attachments": {
    "9b6bc8e5-643a-45d5-aa72-1180d0643fdb.png": {
     "image/png": "[encoded data removed]"
    }
   },
   "cell_type": "markdown",
   "id": "840292a4-e77b-429c-8adb-4dbe382ee5a2",
   "metadata": {},
   "source": [
    "A **transferência de massa** é um fenomeno que consite na difusão de substâncias em um efluente com diferenças de concentração.\n",
    "\n",
    "Desse modo, temos que o fluxo de matéria ocorre da região mais concentrada para a de menor concentração dessa mesma espécie química:\n",
    "\n",
    "![image.png](attachment:9b6bc8e5-643a-45d5-aa72-1180d0643fdb.png)\n",
    "\n",
    "Dito isso, há dois **mecânismos** de transferência de massa:\n",
    "\n",
    "- **Fluido estático/Trans. de massa molecular**: Movimento randômico de moléculas em um fluido em repouso.\n",
    "- **Fluido em movimento/Trans. de massa convectiva**: Transfêrencia de moléculas auxiliada pelo movimento do fluido."
   ]
  },
  {
   "cell_type": "markdown",
   "id": "34e22a79-335e-401a-9528-c1d8894d01dc",
   "metadata": {},
   "source": []
  },
  {
   "cell_type": "markdown",
   "id": "44fc7162-696c-4a95-8ed2-915883b0e61c",
   "metadata": {},
   "source": []
  },
  {
   "cell_type": "markdown",
   "id": "622698fb-3d0b-4c28-897d-3037d3aff13c",
   "metadata": {},
   "source": []
  },
  {
   "cell_type": "markdown",
   "id": "5cdd0e8c-4fb4-4fda-84b8-46ed08dd07fa",
   "metadata": {},
   "source": []
  },
  {
   "cell_type": "markdown",
   "id": "eb3f4729-8518-42f7-b6fb-f2a85cf32c40",
   "metadata": {},
   "source": []
  },
  {
   "cell_type": "markdown",
   "id": "d7fbef16-6830-4b63-ab97-9eb850aa4a36",
   "metadata": {},
   "source": []
  },
  {
   "cell_type": "markdown",
   "id": "99535233-ef97-4316-adaf-17cbbb4a4a95",
   "metadata": {},
   "source": []
  },
  {
   "cell_type": "markdown",
   "id": "fc2ee02f-1bf4-45dc-9c5b-2ba257eba4b6",
   "metadata": {},
   "source": []
  },
  {
   "cell_type": "markdown",
   "id": "60d1f7bd-7eb3-4f6a-8017-77dc8a93a516",
   "metadata": {},
   "source": []
  },
  {
   "cell_type": "markdown",
   "id": "065d0d0e-5418-47d7-aac4-33c042ea7d58",
   "metadata": {},
   "source": []
  },
  {
   "cell_type": "markdown",
   "id": "6ed6f197-1aa6-49fb-887d-8b990b5e29f8",
   "metadata": {},
   "source": []
  },
  {
   "cell_type": "markdown",
   "id": "17bd193d-8f73-4917-8170-72cb7eaa16fd",
   "metadata": {},
   "source": []
  },
  {
   "cell_type": "markdown",
   "id": "9e4d8734-3ad3-40cb-9daf-b7b2259a6a9d",
   "metadata": {},
   "source": []
  },
  {
   "cell_type": "markdown",
   "id": "a9026bf5-a790-4305-ad9f-04f4655b4d67",
   "metadata": {},
   "source": []
  },
  {
   "cell_type": "markdown",
   "id": "b13fd41b-d1ac-4f6f-a6f8-e994df1a885e",
   "metadata": {},
   "source": []
  },
  {
   "cell_type": "markdown",
   "id": "b3e85eb1-86f7-434c-b790-80bf280666a9",
   "metadata": {},
   "source": []
  },
  {
   "cell_type": "markdown",
   "id": "4d1de6af-e18e-4e3d-bf39-268dfd9a5411",
   "metadata": {},
   "source": []
  },
  {
   "cell_type": "markdown",
   "id": "fd881c43-bbdb-4d3d-b8bf-21364c8c36b2",
   "metadata": {},
   "source": []
  }
 ],
 "metadata": {
  "kernelspec": {
   "display_name": "Python 3 (ipykernel)",
   "language": "python",
   "name": "python3"
  },
  "language_info": {
   "codemirror_mode": {
    "name": "ipython",
    "version": 3
   },
   "file_extension": ".py",
   "mimetype": "text/x-python",
   "name": "python",
   "nbconvert_exporter": "python",
   "pygments_lexer": "ipython3",
   "version": "3.10.4"
  }
 },
 "nbformat": 4,
 "nbformat_minor": 5
}
