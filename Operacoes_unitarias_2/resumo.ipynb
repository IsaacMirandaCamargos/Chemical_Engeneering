{
 "cells": [
  {
   "cell_type": "markdown",
   "id": "699a66d4-b0f4-4ed3-bcbb-ec804d0279a5",
   "metadata": {},
   "source": [
    "<h1 align=\"center\"> Operações unitarias 2"
   ]
  },
  {
   "cell_type": "markdown",
   "id": "2561cd7b-0d57-4a84-9153-35b5a076839c",
   "metadata": {},
   "source": [
    "---"
   ]
  },
  {
   "cell_type": "markdown",
   "id": "42d6e7e8-cb0c-4573-afb6-dcd78b9b8ad7",
   "metadata": {},
   "source": [
    "<h1 align=\"center\"> Conceitos e definições"
   ]
  },
  {
   "cell_type": "markdown",
   "id": "110c80ff-0b26-408d-8018-9cc72639f0ec",
   "metadata": {},
   "source": [
    "<h1> Introdução:"
   ]
  },
  {
   "cell_type": "markdown",
   "id": "6fbfdf60-8dd9-4118-a8b2-eabee1b40cd6",
   "metadata": {},
   "source": [
    "Operações Unitárias II é uma disciplina indispensável no âmbito da engenharia química, centrada na análise, desenho e operação de equipamentos primordiais em processos físico-químicos industriais. Essa matéria instiga o aprofundamento dos conceitos fundamentais de Operações Unitárias I, permitindo aos alunos uma visão detalhada da aplicação prática de diversos equipamentos que regem operações como a transferência de calor, transferência de massa e destilação.\n",
    "\n",
    "Os equipamentos que são foco principal no estudo de Operações Unitárias II incluem:\n",
    "\n",
    "- **Trocadores de calor**: Equipamentos usados para transferir calor entre dois ou mais fluidos em temperaturas diferentes.\n",
    "- **Torres de destilação**: Usadas para separar componentes de uma mistura com base em suas diferentes volatilidades.\n",
    "- **Evaporadores e cristalizadores**: Usados para concentrar soluções e formar cristais sólidos a partir de soluções.\n",
    "- **Fornos e caldeiras**: Estes são equipamentos de transferência de calor que são usados para gerar energia térmica.\n",
    "- **Torre de resfriamento**: As torres de resfriamento são equipamentos utilizados para dissipar o calor de processos industriais, geralmente removendo o calor de um líquido de refrigeração.\n",
    "- **Umidificadores**: Umidificadores são equipamentos que aumentam a umidade relativa de um ambiente ou de um fluxo de gás.\n",
    "- **Secadores**: Equipamentos que removem a água ou outros líquidos de materiais.\n",
    "\n"
   ]
  },
  {
   "cell_type": "markdown",
   "id": "3bcff146-3bd7-41e5-84b4-49cfcf864561",
   "metadata": {},
   "source": []
  },
  {
   "cell_type": "markdown",
   "id": "39e617bd-5019-4f08-a2a5-32b15ead132f",
   "metadata": {},
   "source": []
  },
  {
   "cell_type": "markdown",
   "id": "c6707d9d-c020-44d3-b2b0-8fee1f862794",
   "metadata": {},
   "source": []
  },
  {
   "cell_type": "markdown",
   "id": "fb3e6e00-1b45-49a0-b217-3e1f6b1e4e05",
   "metadata": {},
   "source": []
  },
  {
   "cell_type": "markdown",
   "id": "86ba7909-caea-4e40-88c4-38614ce07fa2",
   "metadata": {},
   "source": []
  },
  {
   "cell_type": "markdown",
   "id": "cceb67a7-d2e0-449f-b1d5-c999d74bd0b0",
   "metadata": {},
   "source": []
  },
  {
   "cell_type": "markdown",
   "id": "76020f6c-af57-4eb2-93a2-3b0796d922c2",
   "metadata": {},
   "source": []
  },
  {
   "cell_type": "markdown",
   "id": "a5dfe192-3976-4dbd-9a10-5f8501da0ad2",
   "metadata": {},
   "source": []
  },
  {
   "cell_type": "markdown",
   "id": "7601dffb-3f6a-4e5b-8ae8-2ee89438ee53",
   "metadata": {},
   "source": []
  },
  {
   "cell_type": "markdown",
   "id": "dbc0b9e8-4f16-43bf-ac7d-98536c3722f1",
   "metadata": {},
   "source": []
  },
  {
   "cell_type": "markdown",
   "id": "6df52a10-ea4a-4b55-b2f0-af34d5ba9cfa",
   "metadata": {},
   "source": []
  },
  {
   "cell_type": "markdown",
   "id": "c6ccb65a-c0a0-4aab-ab03-5776de5e18bb",
   "metadata": {},
   "source": []
  },
  {
   "cell_type": "markdown",
   "id": "ee9441c4-838e-41a2-be89-5f2b800f8c57",
   "metadata": {},
   "source": []
  },
  {
   "cell_type": "markdown",
   "id": "a91201ad-3d5a-4e52-997f-fb24ee13e7e5",
   "metadata": {},
   "source": []
  },
  {
   "cell_type": "markdown",
   "id": "ae2fb3ed-452b-4fcb-961f-26eceddc08f9",
   "metadata": {},
   "source": []
  },
  {
   "cell_type": "markdown",
   "id": "a7c8d580-0848-41dc-850a-40887e549b5a",
   "metadata": {},
   "source": []
  },
  {
   "cell_type": "code",
   "execution_count": 3,
   "id": "fd77abb5-7818-4c86-9e95-eec08f926b7a",
   "metadata": {
    "tags": []
   },
   "outputs": [
    {
     "name": "stdout",
     "output_type": "stream",
     "text": [
      "- **Trocadores de calor**: Equipamentos usados para transferir calor entre dois ou mais fluidos em temperaturas diferentes.\n",
      "- **Torres de destilação**: Usadas para separar componentes de uma mistura com base em suas diferentes volatilidades.\n",
      "- **Colunas de absorção**: Equipamentos utilizados para remover componentes específicos de uma mistura gasosa por meio da absorção em um líquido.\n",
      "- **Secadores**: Equipamentos que removem a água ou outros líquidos de materiais.\n",
      "- **Evaporadores e cristalizadores**: Usados para concentrar soluções e formar cristais sólidos a partir de soluções.\n",
      "- **Reatores químicos**: Equipamentos onde ocorrem as reações químicas.\n",
      "- **Equipamentos de extração líquido-líquido e sólido-líquido**: Usados para separar componentes de uma mistura com base em sua solubilidade relativa em diferentes solventes.\n",
      "- **Equipamentos para operações com partículas**: como moinhos e ciclones.\n"
     ]
    }
   ],
   "source": [
    "textao = \"\"\"\n",
    "\n",
    "\n",
    "\n",
    "\n",
    "\n",
    "\n",
    "\n",
    "\n",
    "\n",
    "\n",
    "\n",
    "Trocadores de calor: Equipamentos usados para transferir calor entre dois ou mais fluidos em temperaturas diferentes.\n",
    "Torres de destilação: Usadas para separar componentes de uma mistura com base em suas diferentes volatilidades.\n",
    "Colunas de absorção: Equipamentos utilizados para remover componentes específicos de uma mistura gasosa por meio da absorção em um líquido.\n",
    "Secadores: Equipamentos que removem a água ou outros líquidos de materiais.\n",
    "Evaporadores e cristalizadores: Usados para concentrar soluções e formar cristais sólidos a partir de soluções.\n",
    "Reatores químicos: Equipamentos onde ocorrem as reações químicas.\n",
    "Equipamentos de extração líquido-líquido e sólido-líquido: Usados para separar componentes de uma mistura com base em sua solubilidade relativa em diferentes solventes.\n",
    "Equipamentos para operações com partículas: como moinhos e ciclones.\n",
    "\n",
    "\n",
    "\n",
    "\n",
    "\n",
    "\n",
    "\n",
    "\n",
    "\n",
    "\n",
    "\n",
    "\"\"\".strip()\n",
    "\n",
    "caracter = \"**\"\n",
    "textos = textao.split(\"\\n\")\n",
    "textao = []\n",
    "for n, tex in enumerate(textos):\n",
    "    if len(tex) < 3:\n",
    "        continue\n",
    "    palavra = textos[n][0:textos[n].find(\":\")]\n",
    "    textos[n] = f\"- {caracter}{palavra}{caracter[::-1]}:\" + \" \" + textos[n][textos[n].find(\":\")+2:]\n",
    "    textao.append(textos[n])\n",
    "    \n",
    "textao = \"\\n\".join(textao)\n",
    "\n",
    "print(textao)\n"
   ]
  },
  {
   "cell_type": "markdown",
   "id": "3bede8a8-3f34-4f8a-b281-d9f708ce548a",
   "metadata": {},
   "source": []
  },
  {
   "cell_type": "markdown",
   "id": "78daa3e6-338b-459a-8e28-670d10d2fb3b",
   "metadata": {},
   "source": []
  },
  {
   "cell_type": "markdown",
   "id": "2df6e45e-360a-460f-a5c7-4dfc0fd5e80e",
   "metadata": {},
   "source": []
  },
  {
   "cell_type": "markdown",
   "id": "dc570124-a677-4f84-8448-563ef9333b31",
   "metadata": {},
   "source": []
  },
  {
   "cell_type": "markdown",
   "id": "cb33b026-e422-413d-9e23-315322a141a0",
   "metadata": {},
   "source": []
  },
  {
   "cell_type": "markdown",
   "id": "88dda28d-2335-4ec1-9a03-206b0460e149",
   "metadata": {},
   "source": []
  },
  {
   "cell_type": "markdown",
   "id": "aad06483-a166-4feb-9cb3-dc391e92cb6c",
   "metadata": {},
   "source": []
  },
  {
   "cell_type": "markdown",
   "id": "28243596-20f5-408f-98f9-a0aceb05cdf8",
   "metadata": {},
   "source": []
  },
  {
   "cell_type": "markdown",
   "id": "13ffb34f-dd09-4a13-9948-61c52b8afc5c",
   "metadata": {},
   "source": []
  },
  {
   "cell_type": "markdown",
   "id": "d9c12b66-5eed-4c32-9699-e342479ea90c",
   "metadata": {},
   "source": []
  },
  {
   "cell_type": "markdown",
   "id": "f593f94a-e25a-41f1-95f8-d67e4d748127",
   "metadata": {},
   "source": []
  },
  {
   "cell_type": "markdown",
   "id": "f41cd040-c43b-4d16-8723-ddf9a060ebce",
   "metadata": {},
   "source": []
  },
  {
   "cell_type": "markdown",
   "id": "1491ca68-138f-472c-bd63-3376184c71ae",
   "metadata": {},
   "source": []
  },
  {
   "cell_type": "markdown",
   "id": "9c3e618b-db7a-4724-9fe9-57f1c50a9aa9",
   "metadata": {},
   "source": []
  },
  {
   "cell_type": "markdown",
   "id": "b1714a71-a8f6-4f9f-b08d-96b6c50ee4ba",
   "metadata": {},
   "source": []
  },
  {
   "cell_type": "markdown",
   "id": "b92d95e2-a29d-4c4b-9571-5f5d0195039b",
   "metadata": {},
   "source": []
  },
  {
   "cell_type": "markdown",
   "id": "d4d316e8-252a-4445-b51e-6fbfde6fc873",
   "metadata": {},
   "source": []
  },
  {
   "cell_type": "markdown",
   "id": "a6760356-ad5d-45b7-8000-410e811154a1",
   "metadata": {},
   "source": []
  },
  {
   "cell_type": "markdown",
   "id": "02b8a28c-1c2a-464a-8383-6ba07864525f",
   "metadata": {},
   "source": []
  },
  {
   "cell_type": "markdown",
   "id": "f3504bd9-475d-426f-88db-2498365439b5",
   "metadata": {},
   "source": []
  },
  {
   "cell_type": "markdown",
   "id": "4975833a-9105-473f-9c90-cc6c0f283198",
   "metadata": {},
   "source": []
  },
  {
   "cell_type": "markdown",
   "id": "2f551a22-28c0-44db-aff2-492adb5c2bde",
   "metadata": {},
   "source": []
  },
  {
   "cell_type": "markdown",
   "id": "3a5f8462-42bb-4bc4-9e15-a0150a3e8735",
   "metadata": {},
   "source": []
  },
  {
   "cell_type": "markdown",
   "id": "e600be10-decb-48d4-a742-6cbc946d5245",
   "metadata": {},
   "source": []
  },
  {
   "cell_type": "markdown",
   "id": "da666e97-b38f-4d2f-b33a-7a2c00728fcb",
   "metadata": {},
   "source": []
  },
  {
   "cell_type": "markdown",
   "id": "7252cc2a-1ef3-40cc-a276-9d44f3b365bb",
   "metadata": {},
   "source": []
  },
  {
   "cell_type": "markdown",
   "id": "a4afdfac-c205-49e2-8126-1f7c1ab8152a",
   "metadata": {},
   "source": []
  },
  {
   "cell_type": "markdown",
   "id": "da6059f8-0062-4b79-a660-414af85f87be",
   "metadata": {},
   "source": []
  },
  {
   "cell_type": "markdown",
   "id": "fa3b46b2-de1c-4884-b2a0-0a495aabec0f",
   "metadata": {},
   "source": []
  },
  {
   "cell_type": "markdown",
   "id": "fcedd60c-d437-4c4d-8e5d-c119b39c8d0d",
   "metadata": {},
   "source": []
  },
  {
   "cell_type": "markdown",
   "id": "cd281ada-1010-4f64-b568-957fbd64b85a",
   "metadata": {},
   "source": []
  },
  {
   "cell_type": "markdown",
   "id": "75388532-7841-4326-97e5-b31b7cac2c29",
   "metadata": {},
   "source": []
  }
 ],
 "metadata": {
  "kernelspec": {
   "display_name": "Python 3 (ipykernel)",
   "language": "python",
   "name": "python3"
  },
  "language_info": {
   "codemirror_mode": {
    "name": "ipython",
    "version": 3
   },
   "file_extension": ".py",
   "mimetype": "text/x-python",
   "name": "python",
   "nbconvert_exporter": "python",
   "pygments_lexer": "ipython3",
   "version": "3.10.10"
  }
 },
 "nbformat": 4,
 "nbformat_minor": 5
}
